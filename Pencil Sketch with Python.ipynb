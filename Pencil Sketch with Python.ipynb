{
 "cells": [
  {
   "cell_type": "code",
   "execution_count": 1,
   "id": "957ce830",
   "metadata": {},
   "outputs": [
    {
     "data": {
      "text/plain": [
       "0"
      ]
     },
     "execution_count": 1,
     "metadata": {},
     "output_type": "execute_result"
    }
   ],
   "source": [
    "import cv2\n",
    "path = r\"C:\\Users\\marjan\\Desktop\\dog.jpg\"\n",
    "image  = cv2.imread(path)\n",
    "cv2.imshow('Dog', image)\n",
    "cv2.waitKey(0)\n",
    "#converting the original image to grayscale\n",
    "gray_image = cv2.cvtColor(image, cv2.COLOR_BGR2GRAY)\n",
    "cv2.imshow('New Dog', gray_image)\n",
    "cv2.waitKey(0)\n",
    "#invert the new grayscale image\n",
    "inverted_image = 255 - gray_image\n",
    "cv2.imshow('Inverted', inverted_image)\n",
    "cv2.waitKey(0)\n",
    "#Blur the image using the Gaussian Funcion in opencv\n",
    "blurred = cv2.GaussianBlur(inverted_image,(21,21),0)\n",
    "#invert the blurred image, then we can easily convert the image into pencil sketch\n",
    "inverted_blurred = 255 - blurred \n",
    "pencil_sketch = cv2.divide(gray_image,inverted_blurred,scale=256.0)\n",
    "cv2.imshow('Sketch', pencil_sketch)\n",
    "cv2.waitKey(0)"
   ]
  }
 ],
 "metadata": {
  "kernelspec": {
   "display_name": "Python 3 (ipykernel)",
   "language": "python",
   "name": "python3"
  },
  "language_info": {
   "codemirror_mode": {
    "name": "ipython",
    "version": 3
   },
   "file_extension": ".py",
   "mimetype": "text/x-python",
   "name": "python",
   "nbconvert_exporter": "python",
   "pygments_lexer": "ipython3",
   "version": "3.9.12"
  }
 },
 "nbformat": 4,
 "nbformat_minor": 5
}
